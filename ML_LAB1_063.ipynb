{
  "nbformat": 4,
  "nbformat_minor": 0,
  "metadata": {
    "colab": {
      "name": "ML_LAB1_063.ipynb",
      "provenance": [],
      "collapsed_sections": []
    },
    "kernelspec": {
      "name": "python3",
      "display_name": "Python 3"
    },
    "language_info": {
      "name": "python"
    }
  },
  "cells": [
    {
      "cell_type": "markdown",
      "metadata": {
        "id": "GXfLvK31rLR2"
      },
      "source": [
        "**Exercise** : 1)Draw Scatter Plot between SepalLengthCm and SepalWidthCm for \"Iris.csv\" file with proper labelling.\n",
        "2) Draw Histogram of SepalLengthCm with proper labelling.\n",
        "3) Plot bar chart of Species.\n",
        "4) Count total null values for each column in this dataset.\n",
        "5) 1) Print first 5 rows of SepalLengthCm. 2) Print from 5th row and onwards and entire column of Iris.csv dataset. \n"
      ]
    },
    {
      "cell_type": "code",
      "metadata": {
        "id": "WOozgqGzygap",
        "colab": {
          "base_uri": "https://localhost:8080/",
          "height": 268
        },
        "outputId": "5c914c33-6499-4560-9f8c-07f77b86363f"
      },
      "source": [
        "import numpy as np\n",
        "import pandas as pd\n",
        "import matplotlib.pyplot as plt\n",
        "\n",
        "data=pd.read_csv('https://raw.githubusercontent.com/yash653/machine-learning-Lab/main/Iris.csv')\n",
        "plt.scatter(data['SepalLengthCm'], data['SepalWidthCm'])\n",
        "plt.show()"
      ],
      "execution_count": 16,
      "outputs": [
        {
          "output_type": "display_data",
          "data": {
            "image/png": "[encoded data removed]",
            "text/plain": [
              "<Figure size 432x288 with 1 Axes>"
            ]
          },
          "metadata": {
            "needs_background": "light"
          }
        }
      ]
    },
    {
      "cell_type": "markdown",
      "source": [
        "2) Draw Histogram of SepalLengthCm with proper labelling.\n"
      ],
      "metadata": {
        "id": "CvFqJERdS03U"
      }
    },
    {
      "cell_type": "code",
      "source": [
        "plt.hist(data['SepalLengthCm'],bins=5)\n",
        "plt.xlabel('Value')\n",
        "plt.ylabel('Frequency')"
      ],
      "metadata": {
        "colab": {
          "base_uri": "https://localhost:8080/",
          "height": 296
        },
        "id": "HEtkaxB2S4aJ",
        "outputId": "3ea71098-fa4f-4b4a-903a-64e1a34073db"
      },
      "execution_count": 18,
      "outputs": [
        {
          "output_type": "execute_result",
          "data": {
            "text/plain": [
              "Text(0, 0.5, 'Frequency')"
            ]
          },
          "metadata": {},
          "execution_count": 18
        },
        {
          "output_type": "display_data",
          "data": {
            "image/png": "[encoded data removed]",
            "text/plain": [
              "<Figure size 432x288 with 1 Axes>"
            ]
          },
          "metadata": {
            "needs_background": "light"
          }
        }
      ]
    },
    {
      "cell_type": "markdown",
      "source": [
        "3).Plot bar chart of Species"
      ],
      "metadata": {
        "id": "0hRlMYw3S9IK"
      }
    },
    {
      "cell_type": "code",
      "source": [
        "\n",
        "plt.bar(x=data['Species'], height=data['Id'])"
      ],
      "metadata": {
        "colab": {
          "base_uri": "https://localhost:8080/",
          "height": 282
        },
        "id": "fdAy97MRTW2G",
        "outputId": "ef29bc85-fe53-48a1-f433-93e4b9e1a7dd"
      },
      "execution_count": 20,
      "outputs": [
        {
          "output_type": "execute_result",
          "data": {
            "text/plain": [
              "<BarContainer object of 150 artists>"
            ]
          },
          "metadata": {},
          "execution_count": 20
        },
        {
          "output_type": "display_data",
          "data": {
            "image/png": "[encoded data removed]",
            "text/plain": [
              "<Figure size 432x288 with 1 Axes>"
            ]
          },
          "metadata": {
            "needs_background": "light"
          }
        }
      ]
    },
    {
      "cell_type": "markdown",
      "source": [
        "4) Count total null values for each column in this dataset"
      ],
      "metadata": {
        "id": "jJd8pGRmUaC7"
      }
    },
    {
      "cell_type": "code",
      "source": [
        "\n",
        "print(\"Total Null Data:\",data.isnull().sum())"
      ],
      "metadata": {
        "colab": {
          "base_uri": "https://localhost:8080/"
        },
        "id": "I4GVpJY7UbAv",
        "outputId": "2aab9c0f-f903-49be-ee89-b45af15e08b9"
      },
      "execution_count": 21,
      "outputs": [
        {
          "output_type": "stream",
          "name": "stdout",
          "text": [
            "Total Null Data: Id               0\n",
            "SepalLengthCm    0\n",
            "SepalWidthCm     0\n",
            "PetalLengthCm    0\n",
            "PetalWidthCm     0\n",
            "Species          0\n",
            "dtype: int64\n"
          ]
        }
      ]
    },
    {
      "cell_type": "markdown",
      "source": [
        "5) 1) Print first 5 rows of SepalLengthCm."
      ],
      "metadata": {
        "id": "DY_9FzezUrb8"
      }
    },
    {
      "cell_type": "code",
      "source": [
        "display(data.SepalLengthCm[1 : 6])"
      ],
      "metadata": {
        "colab": {
          "base_uri": "https://localhost:8080/",
          "height": 121
        },
        "id": "op30dbdOU1yA",
        "outputId": "41b58fbd-055f-4a2e-d7aa-a208014d4012"
      },
      "execution_count": 23,
      "outputs": [
        {
          "output_type": "display_data",
          "data": {
            "text/plain": [
              "1    4.9\n",
              "2    4.7\n",
              "3    4.6\n",
              "4    5.0\n",
              "5    5.4\n",
              "Name: SepalLengthCm, dtype: float64"
            ]
          },
          "metadata": {}
        }
      ]
    },
    {
      "cell_type": "markdown",
      "source": [
        "2) Print from 5th row and onwards and entire column of Iris.csv dataset."
      ],
      "metadata": {
        "id": "JpovGgYZVWte"
      }
    },
    {
      "cell_type": "code",
      "source": [
        "data = pd.read_csv('https://raw.githubusercontent.com/yash653/machine-learning-Lab/main/Iris.csv', skiprows=([i for i in range(5, )]))\n",
        "print(data)"
      ],
      "metadata": {
        "colab": {
          "base_uri": "https://localhost:8080/"
        },
        "id": "xtLIzwwhVYPh",
        "outputId": "4f36fbf5-e9d3-4b33-f6ed-2b486036ff69"
      },
      "execution_count": 25,
      "outputs": [
        {
          "output_type": "stream",
          "name": "stdout",
          "text": [
            "       5  5.0  3.6  1.4  0.2     Iris-setosa\n",
            "0      6  5.4  3.9  1.7  0.4     Iris-setosa\n",
            "1      7  4.6  3.4  1.4  0.3     Iris-setosa\n",
            "2      8  5.0  3.4  1.5  0.2     Iris-setosa\n",
            "3      9  4.4  2.9  1.4  0.2     Iris-setosa\n",
            "4     10  4.9  3.1  1.5  0.1     Iris-setosa\n",
            "..   ...  ...  ...  ...  ...             ...\n",
            "140  146  6.7  3.0  5.2  2.3  Iris-virginica\n",
            "141  147  6.3  2.5  5.0  1.9  Iris-virginica\n",
            "142  148  6.5  3.0  5.2  2.0  Iris-virginica\n",
            "143  149  6.2  3.4  5.4  2.3  Iris-virginica\n",
            "144  150  5.9  3.0  5.1  1.8  Iris-virginica\n",
            "\n",
            "[145 rows x 6 columns]\n"
          ]
        }
      ]
    },
    {
      "cell_type": "markdown",
      "source": [
        "# Exercise:"
      ],
      "metadata": {
        "id": "wVf530WNVtUH"
      }
    },
    {
      "cell_type": "markdown",
      "source": [
        "1. Create a Numpy array of size 4 x 5.\n"
      ],
      "metadata": {
        "id": "XD0zv7DlVwAu"
      }
    },
    {
      "cell_type": "code",
      "source": [
        "import numpy as np\n",
        "num_arr = np.array([[1,2,3,4,5],[1,2,3,4,5],[1,2,3,4,5],[1,2,3,4,5]])\n",
        "print(num_arr)"
      ],
      "metadata": {
        "colab": {
          "base_uri": "https://localhost:8080/"
        },
        "id": "GGxvlg_IV_1c",
        "outputId": "15a7c978-a1cd-4be3-c012-6f83709df98f"
      },
      "execution_count": 26,
      "outputs": [
        {
          "output_type": "stream",
          "name": "stdout",
          "text": [
            "[[1 2 3 4 5]\n",
            " [1 2 3 4 5]\n",
            " [1 2 3 4 5]\n",
            " [1 2 3 4 5]]\n"
          ]
        }
      ]
    },
    {
      "cell_type": "markdown",
      "source": [
        "2.Randomly initialize the array"
      ],
      "metadata": {
        "id": "TOgBhFeqa5Gg"
      }
    },
    {
      "cell_type": "code",
      "source": [
        "rand_int2 = np.random.randint(1,2,(2,2))\n",
        "print(\"Array\\n\", rand_int2)"
      ],
      "metadata": {
        "colab": {
          "base_uri": "https://localhost:8080/"
        },
        "id": "qZQp7Moxa7Uw",
        "outputId": "c3a80411-c860-4af2-9667-262a6aa2de34"
      },
      "execution_count": 27,
      "outputs": [
        {
          "output_type": "stream",
          "name": "stdout",
          "text": [
            "Array\n",
            " [[1 1]\n",
            " [1 1]]\n"
          ]
        }
      ]
    },
    {
      "cell_type": "markdown",
      "source": [
        "3.Get the Transpose of the Matrix that you created. Create a square matrix and find its determinant."
      ],
      "metadata": {
        "id": "8mVQlfr2bJlk"
      }
    },
    {
      "cell_type": "code",
      "source": [
        "print(np.transpose(rand_int2))"
      ],
      "metadata": {
        "colab": {
          "base_uri": "https://localhost:8080/"
        },
        "id": "Xs3NsNRobJIk",
        "outputId": "7ec414ba-e407-4b7e-c33d-a0296d7c472b"
      },
      "execution_count": 28,
      "outputs": [
        {
          "output_type": "stream",
          "name": "stdout",
          "text": [
            "[[1 1]\n",
            " [1 1]]\n"
          ]
        }
      ]
    },
    {
      "cell_type": "markdown",
      "source": [
        "4.Create another matrix of size 5 x 4 and randomly initialize it."
      ],
      "metadata": {
        "id": "A0itzHb4bWkw"
      }
    },
    {
      "cell_type": "code",
      "source": [
        "rand_int2 = np.random.randint(1,30,(5,4))\n",
        "print(\"Array\\n\", rand_int2) "
      ],
      "metadata": {
        "colab": {
          "base_uri": "https://localhost:8080/"
        },
        "id": "lwmzUKj8bg-C",
        "outputId": "a59879ae-df7e-4f6b-cf3c-92dc141a017c"
      },
      "execution_count": 29,
      "outputs": [
        {
          "output_type": "stream",
          "name": "stdout",
          "text": [
            "Array\n",
            " [[21  9 23 25]\n",
            " [16  1  7 17]\n",
            " [14 10  8  6]\n",
            " [22  2 27 10]\n",
            " [ 1 10  5  8]]\n"
          ]
        }
      ]
    },
    {
      "cell_type": "markdown",
      "source": [
        "5.Perform Matrix multiplication.\n"
      ],
      "metadata": {
        "id": "Go05geU1cEj_"
      }
    },
    {
      "cell_type": "code",
      "source": [
        "a = np.array([[1, 0],\n",
        "              [0, 1]])\n",
        "b = np.array([[4, 1],\n",
        "              [2, 2]])\n",
        "np.matmul(a, b)"
      ],
      "metadata": {
        "colab": {
          "base_uri": "https://localhost:8080/"
        },
        "id": "qrt7rLg0cG_C",
        "outputId": "f3c530ce-cc22-40e6-8af3-b1abe73413b9"
      },
      "execution_count": 30,
      "outputs": [
        {
          "output_type": "execute_result",
          "data": {
            "text/plain": [
              "array([[4, 1],\n",
              "       [2, 2]])"
            ]
          },
          "metadata": {},
          "execution_count": 30
        }
      ]
    },
    {
      "cell_type": "markdown",
      "source": [
        "6.Perform element wise matrix multiplication."
      ],
      "metadata": {
        "id": "1quRLsRzcQJx"
      }
    },
    {
      "cell_type": "code",
      "source": [
        "a = np.array([[1, 0],\n",
        "              [0, 6]])\n",
        "b = np.array([[4, 1],\n",
        "              [2, 2]])\n",
        "\n",
        "\n",
        "out_arr = np.multiply(a, b)\n",
        "print (\"Resultant output array: \\n\", out_arr)"
      ],
      "metadata": {
        "colab": {
          "base_uri": "https://localhost:8080/"
        },
        "id": "qnfNl20dcVYg",
        "outputId": "b4e3c4cd-4e2a-4a25-d635-4372d0d28224"
      },
      "execution_count": 31,
      "outputs": [
        {
          "output_type": "stream",
          "name": "stdout",
          "text": [
            "Resultant output array: \n",
            " [[ 4  0]\n",
            " [ 0 12]]\n"
          ]
        }
      ]
    },
    {
      "cell_type": "markdown",
      "source": [
        "7. Find mean, median of the numpy array created"
      ],
      "metadata": {
        "id": "KmZX7wk8ccSZ"
      }
    },
    {
      "cell_type": "code",
      "source": [
        "a = np.array([[5, 10, 15], [5, 2, 1]])\n",
        "print(\"Median : \", np.median(a))\n",
        "print(\"Mean : \", np.mean(a))"
      ],
      "metadata": {
        "colab": {
          "base_uri": "https://localhost:8080/"
        },
        "id": "Eo5oAbElc52V",
        "outputId": "c4093451-50d1-4a49-810d-4c5dda8aa396"
      },
      "execution_count": 32,
      "outputs": [
        {
          "output_type": "stream",
          "name": "stdout",
          "text": [
            "Median :  5.0\n",
            "Mean :  6.333333333333333\n"
          ]
        }
      ]
    },
    {
      "cell_type": "markdown",
      "source": [
        "8.\n",
        "Obtain each row in the second column of the first array."
      ],
      "metadata": {
        "id": "85SC0eOidM-O"
      }
    },
    {
      "cell_type": "code",
      "source": [
        "a = np.array([[1, 2, 4],\n",
        "              [6, 8, 10]])\n",
        "\n",
        "\n",
        "print(a[0: ,1])"
      ],
      "metadata": {
        "colab": {
          "base_uri": "https://localhost:8080/"
        },
        "id": "WOCPKc_gdO7u",
        "outputId": "adbbd0b4-4ffe-48f0-dfad-88f3e4b4a005"
      },
      "execution_count": 33,
      "outputs": [
        {
          "output_type": "stream",
          "name": "stdout",
          "text": [
            "[2 8]\n"
          ]
        }
      ]
    },
    {
      "cell_type": "markdown",
      "source": [
        "9.Convert Numeric entries(columns) of Iris.csv to Mean Centered Version"
      ],
      "metadata": {
        "id": "7-E6lS3QdXNZ"
      }
    },
    {
      "cell_type": "code",
      "source": [
        "import pandas as pd\n",
        "data=pd.read_csv('https://raw.githubusercontent.com/yash653/machine-learning-Lab/main/Iris.csv')\n",
        "arr1=np.array(data.head(5))\n",
        "mat5=np.array([arr1[:,0],arr1[:,1],arr1[:,2],arr1[:,3]])\n",
        "res=mat5-np.mean(mat5,axis=0)\n",
        "print(res)"
      ],
      "metadata": {
        "id": "0HFAbqhjda3C",
        "colab": {
          "base_uri": "https://localhost:8080/"
        },
        "outputId": "8bea3853-8055-47f0-f660-d8a937cbc1c5"
      },
      "execution_count": 35,
      "outputs": [
        {
          "output_type": "stream",
          "name": "stdout",
          "text": [
            "[[-1.75 -0.8250000000000002 -0.050000000000000266 0.7000000000000002 1.25]\n",
            " [2.3499999999999996 2.075 1.65 1.2999999999999998 1.25]\n",
            " [0.75 0.17499999999999982 0.1499999999999999 -0.19999999999999973\n",
            "  -0.1499999999999999]\n",
            " [-1.35 -1.4250000000000003 -1.7500000000000002 -1.7999999999999998 -2.35]]\n"
          ]
        }
      ]
    },
    {
      "cell_type": "markdown",
      "source": [
        "10.Study about numpy array attributes and implement it on the first matrix"
      ],
      "metadata": {
        "id": "lLTGqYGydmYm"
      }
    },
    {
      "cell_type": "code",
      "source": [
        "a = np.array([[1, 2, 3],\n",
        "              [4, 5, 6]])\n",
        "\n",
        "print(\"Shape : \",a.shape)\n",
        "print(\"-------------------------\")\n",
        "a.shape = (3,2) \n",
        "print(a) \n",
        "print(\"-------------------------\")\n",
        "a = np.arange(24) \n",
        "a.ndim  \n",
        "print(a)\n",
        "print(\"-------------------------\")\n",
        "print(\"DataType : \",a.dtype)\n",
        "print(\"-------------------------\")\n",
        "print(\"ItemSize : \",a.itemsize)\n",
        "print(\"-------------------------\")\n",
        "a = np.array([[1, 2, 3],\n",
        "              [4, 5, 6]])\n",
        "print(a.T)"
      ],
      "metadata": {
        "colab": {
          "base_uri": "https://localhost:8080/"
        },
        "id": "rLVZs1QNdoOL",
        "outputId": "8b56a380-ec70-4b66-e955-ee86786d33dc"
      },
      "execution_count": 36,
      "outputs": [
        {
          "output_type": "stream",
          "name": "stdout",
          "text": [
            "Shape :  (2, 3)\n",
            "-------------------------\n",
            "[[1 2]\n",
            " [3 4]\n",
            " [5 6]]\n",
            "-------------------------\n",
            "[ 0  1  2  3  4  5  6  7  8  9 10 11 12 13 14 15 16 17 18 19 20 21 22 23]\n",
            "-------------------------\n",
            "DataType :  int64\n",
            "-------------------------\n",
            "ItemSize :  8\n",
            "-------------------------\n",
            "[[1 4]\n",
            " [2 5]\n",
            " [3 6]]\n"
          ]
        }
      ]
    }
  ]
}